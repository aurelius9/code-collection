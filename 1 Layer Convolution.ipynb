{
 "cells": [
  {
   "cell_type": "code",
   "execution_count": 1,
   "metadata": {},
   "outputs": [],
   "source": [
    "import numpy as np\n",
    "\n",
    "image = np.random.rand(3,3,4,4)\n",
    "kernel = np.random.rand(3,3,3)"
   ]
  },
  {
   "cell_type": "code",
   "execution_count": 2,
   "metadata": {},
   "outputs": [
    {
     "name": "stdout",
     "output_type": "stream",
     "text": [
      "Kernel: \n",
      "[[0.76562483 0.725774   0.85263973]\n",
      " [0.97683008 0.56384334 0.3293747 ]\n",
      " [0.29443685 0.21340599 0.39419404]]\n",
      "Image: \n",
      "[[0.1117154  0.70566447 0.45545295 0.80684282]\n",
      " [0.3395883  0.73783021 0.5392052  0.54027606]\n",
      " [0.10839424 0.20519848 0.33479745 0.62357186]\n",
      " [0.11352214 0.44364134 0.87521644 0.63579373]]\n"
     ]
    }
   ],
   "source": [
    "print(\"Kernel: \")\n",
    "print(kernel[0])\n",
    "\n",
    "print(\"Image: \")\n",
    "print(image[0][0])"
   ]
  },
  {
   "cell_type": "code",
   "execution_count": 3,
   "metadata": {},
   "outputs": [],
   "source": [
    "def convolution_junction(image,kernel,padding=0,stride=1):\n",
    "    \n",
    "    image_count = int(image.shape[0])\n",
    "    number_of_channels = int(image.shape[1])\n",
    "    image_size = int(image.shape[2])\n",
    "    kernel_size = int(kernel.shape[2])\n",
    "    \n",
    "    X_pad = np.pad(image,((0,0),(0,0),(padding,padding),(padding,padding)),'constant',constant_values = 0)\n",
    "    \n",
    "    print(\"Padded: \")\n",
    "    print(X_pad[0][0])\n",
    "    \n",
    "    output_size = int(np.round((image_size+ (2*padding)-kernel_size/stride) + 1))\n",
    "    result = np.zeros(shape=(image_count,number_of_channels,output_size,output_size))\n",
    "    \n",
    "    for t in range(0,image_count):\n",
    "        for m in range(0,number_of_channels):\n",
    "            for y in range(0,output_size):\n",
    "                for z in range(0,output_size):\n",
    "                    result[t][m][y,z] = np.sum(np.dot(X_pad[t][m][y:y+kernel_size,z:z+kernel_size],kernel[m]))\n",
    "                    \n",
    "    print(\"Result: \")\n",
    "    print(result[0][0])\n",
    "    \n",
    "    return result"
   ]
  },
  {
   "cell_type": "code",
   "execution_count": 4,
   "metadata": {},
   "outputs": [
    {
     "name": "stdout",
     "output_type": "stream",
     "text": [
      "Padded: \n",
      "[[0.         0.         0.         0.         0.         0.        ]\n",
      " [0.         0.1117154  0.70566447 0.45545295 0.80684282 0.        ]\n",
      " [0.         0.3395883  0.73783021 0.5392052  0.54027606 0.        ]\n",
      " [0.         0.10839424 0.20519848 0.33479745 0.62357186 0.        ]\n",
      " [0.         0.11352214 0.44364134 0.87521644 0.63579373 0.        ]\n",
      " [0.         0.         0.         0.         0.         0.        ]]\n",
      "Result: \n",
      "[[2.14604506 4.6544961  6.4588167  4.8506942 ]\n",
      " [2.5338441  5.59430707 8.12838203 6.80158173]\n",
      " [2.30086827 5.48718844 8.14487507 7.46565352]\n",
      " [1.00027176 2.82501941 4.919684   5.1913935 ]]\n"
     ]
    }
   ],
   "source": [
    "padding = 1\n",
    "result = convolution_junction(image,kernel,padding)"
   ]
  },
  {
   "cell_type": "code",
   "execution_count": null,
   "metadata": {},
   "outputs": [],
   "source": []
  }
 ],
 "metadata": {
  "kernelspec": {
   "display_name": "Python 3",
   "language": "python",
   "name": "python3"
  },
  "language_info": {
   "codemirror_mode": {
    "name": "ipython",
    "version": 3
   },
   "file_extension": ".py",
   "mimetype": "text/x-python",
   "name": "python",
   "nbconvert_exporter": "python",
   "pygments_lexer": "ipython3",
   "version": "3.6.5"
  }
 },
 "nbformat": 4,
 "nbformat_minor": 2
}
