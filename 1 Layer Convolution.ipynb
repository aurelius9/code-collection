{
 "cells": [
  {
   "cell_type": "code",
   "execution_count": 75,
   "metadata": {},
   "outputs": [],
   "source": [
    "import numpy as np"
   ]
  },
  {
   "cell_type": "code",
   "execution_count": 76,
   "metadata": {},
   "outputs": [],
   "source": [
    "def conv_single_step(a_slice_prev, W, b):\n",
    "\n",
    "    s = np.multiply(a_slice_prev,W) \n",
    "    # Sum over all entries of the volume s.\n",
    "    Z = np.sum(s)\n",
    "    # Add bias b to Z. Cast b to a float() so that Z results in a scalar value.\n",
    "    Z = Z + float(b)\n",
    "    return Z"
   ]
  },
  {
   "cell_type": "code",
   "execution_count": 77,
   "metadata": {},
   "outputs": [
    {
     "name": "stdout",
     "output_type": "stream",
     "text": [
      "Z = -6.999089450680221\n"
     ]
    }
   ],
   "source": [
    "np.random.seed(1)\n",
    "a_slice_prev = np.random.randn(3, 4, 4)\n",
    "W = np.random.randn(3, 4, 4)\n",
    "b = np.random.randn(1, 1, 1)\n",
    "\n",
    "Z = conv_single_step(a_slice_prev, W, b)\n",
    "print(\"Z =\", Z)"
   ]
  },
  {
   "cell_type": "code",
   "execution_count": 82,
   "metadata": {},
   "outputs": [],
   "source": [
    "def convolution_junction(image,kernel,bias,hparameters):\n",
    "    \n",
    "    (image_count,number_of_channels,n_H_prev,n_W_prev) = image.shape\n",
    "    (n_C_prev,n_c,f,f1) = kernel.shape\n",
    "    \n",
    "    stride = hparameters['stride']\n",
    "    pad = hparameters['pad']\n",
    "    \n",
    "    X_pad = np.pad(image,((0,0),(0,0),(pad,pad),(pad,pad)),'constant',constant_values = 0)\n",
    "\n",
    "    output_height = int(np.floor(((n_H_prev+ (2*pad)-f)/stride) + 1))\n",
    "    output_width = int(np.floor(((n_W_prev+ (2*pad)-f)/stride) + 1))\n",
    "    \n",
    "    result = np.zeros(shape=(image_count,n_c,output_height,output_width))\n",
    "    \n",
    "    for t in range(0,image_count):\n",
    "        \n",
    "        a_prev_image = X_pad[t]\n",
    "        \n",
    "        for y in range(0,output_height):\n",
    "            \n",
    "                for z in range(0,output_width):\n",
    "                    \n",
    "                    for m in range(0,n_c):\n",
    "                        \n",
    "                        vert_start = y*stride\n",
    "                        vert_end = vert_start+f\n",
    "                        horiz_start = z*stride\n",
    "                        horiz_end = horiz_start+f\n",
    "                        \n",
    "                        \n",
    "                        a_slice_prev = a_prev_image[:,vert_start:vert_end,horiz_start:horiz_end]\n",
    "                        \n",
    "                        result[t, m, y, z] = conv_single_step(a_slice_prev,kernel[:,m,:,:],bias[:,m,:,:])\n",
    "                        \n",
    "    cache = (image, kernel, bias, pad, stride)\n",
    "    \n",
    "    return result, cache"
   ]
  },
  {
   "cell_type": "code",
   "execution_count": 85,
   "metadata": {},
   "outputs": [],
   "source": [
    "np.random.seed(1)\n",
    "image = np.random.rand(1,3,4,4)\n",
    "#bias & kernel channels should be changed together\n",
    "kernel = np.random.rand(3,8,2,2)\n",
    "b = np.random.randn(1,8,1,1)\n",
    "hparameters = {\"pad\" : 2,\n",
    "               \"stride\": 2}"
   ]
  },
  {
   "cell_type": "code",
   "execution_count": 86,
   "metadata": {},
   "outputs": [],
   "source": [
    "result,ccc = convolution_junction(image,kernel,b,hparameters)"
   ]
  },
  {
   "cell_type": "code",
   "execution_count": 87,
   "metadata": {},
   "outputs": [
    {
     "name": "stdout",
     "output_type": "stream",
     "text": [
      "Kernel: \n",
      "[[[0.28777534 0.13002857]\n",
      "  [0.01936696 0.67883553]]\n",
      "\n",
      " [[0.21162812 0.26554666]\n",
      "  [0.49157316 0.05336255]]\n",
      "\n",
      " [[0.57411761 0.14672857]\n",
      "  [0.58930554 0.69975836]]\n",
      "\n",
      " [[0.10233443 0.41405599]\n",
      "  [0.69440016 0.41417927]]\n",
      "\n",
      " [[0.04995346 0.53589641]\n",
      "  [0.66379465 0.51488911]]\n",
      "\n",
      " [[0.94459476 0.58655504]\n",
      "  [0.90340192 0.1374747 ]]\n",
      "\n",
      " [[0.13927635 0.80739129]\n",
      "  [0.39767684 0.1653542 ]]\n",
      "\n",
      " [[0.92750858 0.34776586]\n",
      "  [0.7508121  0.72599799]]]\n",
      "Image: \n",
      "[[[4.17022005e-01 7.20324493e-01 1.14374817e-04 3.02332573e-01]\n",
      "  [1.46755891e-01 9.23385948e-02 1.86260211e-01 3.45560727e-01]\n",
      "  [3.96767474e-01 5.38816734e-01 4.19194514e-01 6.85219500e-01]\n",
      "  [2.04452250e-01 8.78117436e-01 2.73875932e-02 6.70467510e-01]]\n",
      "\n",
      " [[4.17304802e-01 5.58689828e-01 1.40386939e-01 1.98101489e-01]\n",
      "  [8.00744569e-01 9.68261576e-01 3.13424178e-01 6.92322616e-01]\n",
      "  [8.76389152e-01 8.94606664e-01 8.50442114e-02 3.90547832e-02]\n",
      "  [1.69830420e-01 8.78142503e-01 9.83468338e-02 4.21107625e-01]]\n",
      "\n",
      " [[9.57889530e-01 5.33165285e-01 6.91877114e-01 3.15515631e-01]\n",
      "  [6.86500928e-01 8.34625672e-01 1.82882773e-02 7.50144315e-01]\n",
      "  [9.88861089e-01 7.48165654e-01 2.80443992e-01 7.89279328e-01]\n",
      "  [1.03226007e-01 4.47893526e-01 9.08595503e-01 2.93614148e-01]]]\n"
     ]
    }
   ],
   "source": [
    "print(\"Kernel: \")\n",
    "print(kernel[0])\n",
    "\n",
    "#Image changes based on padding\n",
    "print(\"Image: \")\n",
    "print(image[0])"
   ]
  },
  {
   "cell_type": "code",
   "execution_count": 88,
   "metadata": {},
   "outputs": [
    {
     "name": "stdout",
     "output_type": "stream",
     "text": [
      "[[[ 0.74055645  0.74055645  0.74055645  0.74055645]\n",
      "  [ 0.74055645  4.61661865  3.17556801  0.74055645]\n",
      "  [ 0.74055645  5.0795541   2.81951707  0.74055645]\n",
      "  [ 0.74055645  0.74055645  0.74055645  0.74055645]]\n",
      "\n",
      " [[-0.9537006  -0.9537006  -0.9537006  -0.9537006 ]\n",
      "  [-0.9537006   3.09951227  1.17318506 -0.9537006 ]\n",
      "  [-0.9537006   2.94386908  1.49547885 -0.9537006 ]\n",
      "  [-0.9537006  -0.9537006  -0.9537006  -0.9537006 ]]\n",
      "\n",
      " [[-0.26621851 -0.26621851 -0.26621851 -0.26621851]\n",
      "  [-0.26621851  2.12336496  1.24663168 -0.26621851]\n",
      "  [-0.26621851  2.91893481  1.17639201 -0.26621851]\n",
      "  [-0.26621851 -0.26621851 -0.26621851 -0.26621851]]\n",
      "\n",
      " [[ 0.03261455  0.03261455  0.03261455  0.03261455]\n",
      "  [ 0.03261455  3.77429649  2.30683091  0.03261455]\n",
      "  [ 0.03261455  3.67896321  2.27274928  0.03261455]\n",
      "  [ 0.03261455  0.03261455  0.03261455  0.03261455]]\n",
      "\n",
      " [[-1.37311732 -1.37311732 -1.37311732 -1.37311732]\n",
      "  [-1.37311732  1.95521235  0.67115253 -1.37311732]\n",
      "  [-1.37311732  2.19706515  0.8099074  -1.37311732]\n",
      "  [-1.37311732 -1.37311732 -1.37311732 -1.37311732]]\n",
      "\n",
      " [[ 0.31515939  0.31515939  0.31515939  0.31515939]\n",
      "  [ 0.31515939  4.05440476  1.9671191   0.31515939]\n",
      "  [ 0.31515939  3.28910844  2.48381489  0.31515939]\n",
      "  [ 0.31515939  0.31515939  0.31515939  0.31515939]]\n",
      "\n",
      " [[ 0.84616065  0.84616065  0.84616065  0.84616065]\n",
      "  [ 0.84616065  5.39576447  3.37798822  0.84616065]\n",
      "  [ 0.84616065  5.24779083  3.61055466  0.84616065]\n",
      "  [ 0.84616065  0.84616065  0.84616065  0.84616065]]\n",
      "\n",
      " [[-0.85951594 -0.85951594 -0.85951594 -0.85951594]\n",
      "  [-0.85951594  1.81927608  0.60000035 -0.85951594]\n",
      "  [-0.85951594  2.84695715  0.8010772  -0.85951594]\n",
      "  [-0.85951594 -0.85951594 -0.85951594 -0.85951594]]]\n"
     ]
    }
   ],
   "source": [
    "print(result[0])"
   ]
  },
  {
   "cell_type": "code",
   "execution_count": 89,
   "metadata": {},
   "outputs": [],
   "source": [
    "def pool_forward(A_prev, hparameters, mode = \"max\"):\n",
    "    # Retrieve dimensions from the input shape\n",
    "    (image_count,n_C_prev,n_H_prev, n_W_prev) = A_prev.shape\n",
    "    \n",
    "    # Retrieve hyperparameters from \"hparameters\"\n",
    "    f = hparameters[\"f\"]\n",
    "    stride = hparameters[\"stride\"]\n",
    "    \n",
    "    # Define the dimensions of the output\n",
    "    output_height = int(np.floor(((n_H_prev - f)/stride) + 1))\n",
    "    output_width = int(np.floor(((n_W_prev- f)/stride) + 1))\n",
    "\n",
    "    # Initialize output matrix A\n",
    "    pooled = np.zeros(shape=(image_count,n_C_prev,output_height,output_width))          \n",
    "    \n",
    "    ### START CODE HERE ###\n",
    "    # loop over the channels of the output volume\n",
    "    for t in range(0,image_count):\n",
    "                \n",
    "        for y in range(0,output_height):\n",
    "\n",
    "            for z in range(0,output_width):\n",
    "                    \n",
    "                for m in range(0,n_C_prev):\n",
    "                    # Find the corners of the current \"slice\" (≈4 lines)\n",
    "                    vert_start = y * stride\n",
    "                    vert_end = vert_start + f\n",
    "                    horz_start = z * stride\n",
    "                    horz_end = horz_start + f\n",
    "                    \n",
    "                    \n",
    "                    # Use the corners to define the current slice on the ith training example of A_prev, channel c. (≈1 line)\n",
    "                    sliced = A_prev[t,m,vert_start:vert_end,horz_start:horz_end]\n",
    "                    \n",
    "                    # Compute the pooling operation on the slice. Use an if statment to differentiate the modes. Use np.max/np.mean.\n",
    "                    if mode == \"max\":\n",
    "                        pooled[t,m,y,z] = np.max(sliced)\n",
    "                    elif mode == 'average':\n",
    "                        pooled[t,m,y,z] = np.average(sliced)\n",
    "    ### END CODE HERE ###\n",
    "   \n",
    "    # Store the input and hparameters in \"cache\" for pool_backward()\n",
    "    cache = (A_prev, 2,2)\n",
    "    \n",
    "    # Making sure your output shape is correct\n",
    "\n",
    "    \n",
    "    return pooled, cache"
   ]
  },
  {
   "cell_type": "code",
   "execution_count": 90,
   "metadata": {},
   "outputs": [
    {
     "name": "stdout",
     "output_type": "stream",
     "text": [
      "mode = max\n",
      "A = [[[[1.74481176]]\n",
      "\n",
      "  [[1.14472371]]\n",
      "\n",
      "  [[1.65980218]]]\n",
      "\n",
      "\n",
      " [[[0.93110208]]\n",
      "\n",
      "  [[2.18557541]]\n",
      "\n",
      "  [[1.19891788]]]]\n",
      "\n",
      "mode = average\n",
      "A = [[[[ 0.25831939]]\n",
      "\n",
      "  [[ 0.00354003]]\n",
      "\n",
      "  [[-0.3614822 ]]]\n",
      "\n",
      "\n",
      " [[[ 0.15471667]]\n",
      "\n",
      "  [[ 0.24904245]]\n",
      "\n",
      "  [[ 0.20670492]]]]\n"
     ]
    }
   ],
   "source": [
    "np.random.seed(1)\n",
    "A_prev = np.random.randn(2, 3, 4, 4)\n",
    "hparameters = {\"stride\" : 2, \"f\": 3}\n",
    "\n",
    "A, cache = pool_forward(A_prev, hparameters)\n",
    "print(\"mode = max\")\n",
    "print(\"A =\", A)\n",
    "print()\n",
    "A, cache = pool_forward(A_prev, hparameters, mode = \"average\")\n",
    "print(\"mode = average\")\n",
    "print(\"A =\", A)"
   ]
  },
  {
   "cell_type": "code",
   "execution_count": null,
   "metadata": {},
   "outputs": [],
   "source": []
  }
 ],
 "metadata": {
  "kernelspec": {
   "display_name": "Python 3",
   "language": "python",
   "name": "python3"
  },
  "language_info": {
   "codemirror_mode": {
    "name": "ipython",
    "version": 3
   },
   "file_extension": ".py",
   "mimetype": "text/x-python",
   "name": "python",
   "nbconvert_exporter": "python",
   "pygments_lexer": "ipython3",
   "version": "3.6.5"
  }
 },
 "nbformat": 4,
 "nbformat_minor": 2
}
