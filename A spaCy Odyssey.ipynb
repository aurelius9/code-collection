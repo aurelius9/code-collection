{
 "cells": [
  {
   "cell_type": "markdown",
   "metadata": {},
   "source": [
    "## spaCy Model Customization"
   ]
  },
  {
   "cell_type": "markdown",
   "metadata": {},
   "source": [
    "### Create Custom Text Categorizer"
   ]
  },
  {
   "cell_type": "markdown",
   "metadata": {},
   "source": [
    "Documentation: https://spacy.io/api/textcategorizer"
   ]
  },
  {
   "cell_type": "code",
   "execution_count": 1,
   "metadata": {},
   "outputs": [
    {
     "name": "stderr",
     "output_type": "stream",
     "text": [
      "C:\\Users\\casocha\\AppData\\Local\\Continuum\\anaconda3\\lib\\importlib\\_bootstrap.py:219: RuntimeWarning: cymem.cymem.Pool size changed, may indicate binary incompatibility. Expected 48 from C header, got 64 from PyObject\n",
      "  return f(*args, **kwds)\n",
      "C:\\Users\\casocha\\AppData\\Local\\Continuum\\anaconda3\\lib\\importlib\\_bootstrap.py:219: RuntimeWarning: cymem.cymem.Address size changed, may indicate binary incompatibility. Expected 24 from C header, got 40 from PyObject\n",
      "  return f(*args, **kwds)\n"
     ]
    }
   ],
   "source": [
    "import spacy\n",
    "import random\n",
    "from pathlib import Path\n",
    "from IPython.display import clear_output\n",
    "import matplotlib.pyplot as plt\n",
    "import pandas as pd\n",
    "import seaborn as sns\n",
    "from spacy import displacy\n",
    "sns.set_style(\"whitegrid\")\n",
    "\n",
    "#typically a couple hundred examples are required for accurate results \n",
    "train_data = [\n",
    "    (u\"Malta\", {'cats': {'EUROPEAN': 1.0, 'NA': 0.0}}),\n",
    "    (u\"Crete\", {'cats': {'EUROPEAN': 1.0, 'NA': 0.0}}),\n",
    "    (u\"USA\", {'cats': {'EUROPEAN': 0.0, 'NA': 1.0}}),\n",
    "    (u\"British\", {'cats': {'EUROPEAN': 1.0, 'NA': 0.0}}),\n",
    "    (u\"Brazil\", {'cats': {'EUROPEAN': 0.0, 'NA': 1.0}}),\n",
    "    (u\"Canadian\", {'cats': {'EUROPEAN': 0.0, 'NA': 1.0}}),\n",
    "    (u\"Sweden\", {'cats': {'EUROPEAN': 1.0, 'NA': 0.0}})]"
   ]
  },
  {
   "cell_type": "code",
   "execution_count": 2,
   "metadata": {},
   "outputs": [],
   "source": [
    "def cat_main(model='en_core_web_sm', new_model_name='ROLL_TIDE', output_dir=r'file_path', n_iter=10):\n",
    "    \"\"\"Set up the pipeline and entity recognizer, and train the new entity.\"\"\"\n",
    "    if model is not None:\n",
    "        #loads pre-trained spacy en model - other options available here: https://spacy.io/usage/models\n",
    "        #nlp = spacy.load('en_core_web_sm') ~ set model in function to the string value\n",
    "        \n",
    "        nlp = spacy.load(model)  # load existing spaCy model\n",
    "        print(\"Loaded model '%s'\" % model)\n",
    "    else:        \n",
    "        # create blank Language class\n",
    "        nlp = spacy.blank('en') \n",
    "        print(\"Created'en' model\")\n",
    "\n",
    "\n",
    "    #initialize nlp pipeline\n",
    "    textcat = nlp.create_pipe('textcat')\n",
    "    nlp.add_pipe(textcat, last=True)\n",
    "\n",
    "    #add custom categories\n",
    "    textcat.add_label('EUROPEAN')\n",
    "    textcat.add_label('NA')\n",
    "\n",
    "    #begin training\n",
    "    nlp.vocab.vectors.name = 'spacy_pretrained_vectors'\n",
    "    optimizer = nlp.begin_training()\n",
    "    \n",
    "    lose=[]\n",
    "    for itn in range(10):\n",
    "        losses = {}\n",
    "        \n",
    "        for doc, gold in train_data:\n",
    "            nlp.update([doc], [gold], sgd=optimizer,losses=losses)\n",
    "        #print(losses)\n",
    "        lose.append(losses['textcat'])\n",
    "\n",
    "        return_l = pd.DataFrame(lose)\n",
    "        return_l = return_l.reset_index()\n",
    "        return_l['index'] = return_l['index'] + 1\n",
    "\n",
    "        clear_output(wait=True)\n",
    "        ax = sns.pointplot(x=\"index\", y=0, data=return_l)\n",
    "        plt.xlabel('Run #')\n",
    "        plt.ylabel('Loss')\n",
    "        plt.title('Tracking Loss Over Training Iterations')\n",
    "        plt.show()\n",
    "\n",
    "    #output model to be used later \n",
    "    #output_dir = r'file path'\n",
    "    output_dir = Path(output_dir) \n",
    "    if not output_dir.exists():\n",
    "        output_dir.mkdir()\n",
    "        nlp.to_disk(output_dir)\n",
    "        print(\"Saved model to\", output_dir)\n",
    "        \n",
    "    #load the saved model\n",
    "    print(\"Loading from\", output_dir)\n",
    "    nlp = spacy.load(output_dir)\n",
    "    #test the model\n",
    "    doc = nlp(u'Italy')\n",
    "    print('Test Cats:')\n",
    "    print(doc.cats)\n",
    "        \n",
    "    return nlp"
   ]
  },
  {
   "cell_type": "code",
   "execution_count": 3,
   "metadata": {},
   "outputs": [
    {
     "data": {
      "image/png": "[encoded data removed]",
      "text/plain": [
       "<Figure size 432x288 with 1 Axes>"
      ]
     },
     "metadata": {
      "needs_background": "light"
     },
     "output_type": "display_data"
    },
    {
     "name": "stdout",
     "output_type": "stream",
     "text": [
      "Loading from file_path\n",
      "Test Cats:\n",
      "{'EUROPEAN': 0.1147436872124672, 'NA': 0.6383675932884216}\n"
     ]
    }
   ],
   "source": [
    "text_cat_nlp = cat_main()"
   ]
  },
  {
   "cell_type": "markdown",
   "metadata": {},
   "source": [
    "### Create Custom Entity Recognition & Update Pre-Existing Entities"
   ]
  },
  {
   "cell_type": "code",
   "execution_count": 4,
   "metadata": {},
   "outputs": [],
   "source": [
    "import spacy\n",
    "import random\n",
    "from pathlib import Path\n",
    "from IPython.display import clear_output\n",
    "import matplotlib.pyplot as plt\n",
    "import pandas as pd\n",
    "import seaborn as sns\n",
    "from spacy import displacy\n",
    "sns.set_style(\"whitegrid\")\n",
    "\n",
    "# new entity label\n",
    "LABEL = 'ROLL_TIDE'\n",
    "\n",
    "TRAIN_DATA = [\n",
    "    (\"Feb\", {\n",
    "        'entities': [(0, 2, 'DATE')]\n",
    "    }),\n",
    "\n",
    "    (\"15/16E\", {\n",
    "        'entities': [(0, 5, 'DATE')]\n",
    "    }),\n",
    "\n",
    "    (\"Apr 20\", {\n",
    "        'entities': [(0, 6, 'DATE')]\n",
    "    }),\n",
    "   \n",
    "    (\"Nick Saban\", {\n",
    "        'entities': [(0, 10, 'ROLL_TIDE')]\n",
    "    }),\n",
    "    (\"Crimson Tide\", {\n",
    "        'entities': [(0, 12, 'ROLL_TIDE')]\n",
    "    }),\n",
    "\n",
    "    (\"Big Al\", {\n",
    "        'entities': [(0, 6, 'ROLL_TIDE')]\n",
    "    }),\n",
    "    (\"Tua 4 Heisman\", {\n",
    "        'entities': [(0, 13, 'ROLL_TIDE')]\n",
    "    })]"
   ]
  },
  {
   "cell_type": "code",
   "execution_count": 5,
   "metadata": {},
   "outputs": [],
   "source": [
    "def main(model='en_core_web_sm', new_model_name='ROLL_TIDE', output_dir=r'file_path', n_iter=10):\n",
    "    \n",
    "    \"\"\"Set up the pipeline and entity recognizer, and train the new entity.\"\"\"\n",
    "    if model is not None:\n",
    "        #loads pre-trained spacy en model - other options available here: https://spacy.io/usage/models\n",
    "        #nlp = spacy.load('en_core_web_sm') ~ set model in function to the string value\n",
    "        \n",
    "        nlp = spacy.load(model)  # load existing spaCy model\n",
    "        print(\"Loaded model '%s'\" % model)\n",
    "    else:        \n",
    "        # create blank Language class\n",
    "        nlp = spacy.blank('en') \n",
    "        print(\"Created'en' model\")\n",
    "        \n",
    "    # Add entity recognizer to model if it's not in the pipeline\n",
    "    # nlp.create_pipe works for built-ins that are registered with spaCy\n",
    "    if 'ner' not in nlp.pipe_names:\n",
    "        ner = nlp.create_pipe('ner')\n",
    "        nlp.add_pipe(ner)\n",
    "    # otherwise, get it, so we can add labels to it\n",
    "    else:\n",
    "        ner = nlp.get_pipe('ner')\n",
    "    \n",
    "    # add new entity label to entity recognizer\n",
    "    ner.add_label(LABEL)   \n",
    "    \n",
    "    #prepares model for training\n",
    "    if model is None:\n",
    "        nlp.vocab.vectors.name = 'spacy_pretrained_vectors'\n",
    "        optimizer = nlp.begin_training()\n",
    "    else:\n",
    "        # Note that 'begin_training' initializes the models, so it'll zero out\n",
    "        # existing entity types.\n",
    "        optimizer = nlp.entity.create_optimizer()\n",
    "    \n",
    "    lose = []\n",
    "    run_index = []\n",
    "    x = 0\n",
    "    # get names of other pipes to disable them during training\n",
    "    other_pipes = [pipe for pipe in nlp.pipe_names if pipe != 'ner']\n",
    "    with nlp.disable_pipes(*other_pipes):  # only train NER\n",
    "        for itn in range(n_iter):\n",
    "            random.shuffle(TRAIN_DATA)\n",
    "            losses = {}\n",
    "            for text, annotations in TRAIN_DATA:\n",
    "                nlp.update([text], [annotations], sgd=optimizer, drop=0.35,\n",
    "                           losses=losses)\n",
    "           # print(losses)\n",
    "            lose.append(losses['ner'])\n",
    "            \n",
    "            return_l = pd.DataFrame(lose)\n",
    "            return_l = return_l.reset_index()\n",
    "            return_l['index'] = return_l['index'] + 1\n",
    "            clear_output(wait=True)\n",
    "            ax = sns.pointplot(x=\"index\", y=0, data=return_l)\n",
    "            plt.xlabel('Run #')\n",
    "            plt.ylabel('Loss')\n",
    "            plt.title('Loss ')\n",
    "            plt.title('Tracking Loss Over Training Iterations')\n",
    "            plt.show()\n",
    "            \n",
    "    # test the trained model\n",
    "    test_text = \"Tua will win the heisman for Nick Saban\"\n",
    "    doc = nlp(test_text)\n",
    "    \n",
    "    print(\"Entities in '%s'\" % test_text)\n",
    "    for ent in doc.ents:\n",
    "        print(ent.label_, ent.text)\n",
    "    \n",
    "    #visualize entities returned\n",
    "    colors = {'ROLL_TIDE': 'linear-gradient(90deg, #aa9cfc, #fc9ce7)'}\n",
    "    options = {'ents': ['ROLL_TIDE'], 'colors': colors}\n",
    "    displacy.serve(doc, style='ent', options=options)\n",
    "    #Go to: http://localhost:5000\n",
    "    \n",
    "    #output model to be used later \n",
    "    #output_dir = r'file path'\n",
    "    output_dir = Path(output_dir) \n",
    "    if not output_dir.exists():\n",
    "        output_dir.mkdir()\n",
    "        nlp.to_disk(output_dir)\n",
    "        print(\"Saved model to\", output_dir)\n",
    "        \n",
    "    #load the saved model\n",
    "    print(\"Loading from\", output_dir)\n",
    "    nlp = spacy.load(output_dir)\n",
    "    #test the model\n",
    "    doc = nlp(u'Italy')\n",
    "    print('Test Cats:')\n",
    "    print(doc.cats)\n",
    "   \n",
    "    return nlp"
   ]
  },
  {
   "cell_type": "code",
   "execution_count": null,
   "metadata": {},
   "outputs": [
    {
     "data": {
      "image/png": "[encoded data removed]",
      "text/plain": [
       "<Figure size 432x288 with 1 Axes>"
      ]
     },
     "metadata": {},
     "output_type": "display_data"
    },
    {
     "name": "stdout",
     "output_type": "stream",
     "text": [
      "Entities in 'Tua will win the heisman for Nick Saban'\n",
      "ROLL_TIDE Tua will\n",
      "ROLL_TIDE Nick Saban\n",
      "\n",
      "    Serving on port 5000...\n",
      "    Using the 'ent' visualizer\n",
      "\n"
     ]
    }
   ],
   "source": [
    "bama_nlp = main()"
   ]
  }
 ],
 "metadata": {
  "kernelspec": {
   "display_name": "Python 3",
   "language": "python",
   "name": "python3"
  },
  "language_info": {
   "codemirror_mode": {
    "name": "ipython",
    "version": 3
   },
   "file_extension": ".py",
   "mimetype": "text/x-python",
   "name": "python",
   "nbconvert_exporter": "python",
   "pygments_lexer": "ipython3",
   "version": "3.7.0"
  }
 },
 "nbformat": 4,
 "nbformat_minor": 2
}
