{
 "cells": [
  {
   "cell_type": "code",
   "execution_count": 1,
   "metadata": {},
   "outputs": [
    {
     "name": "stderr",
     "output_type": "stream",
     "text": [
      "C:\\Anaconda\\lib\\site-packages\\h5py\\__init__.py:36: FutureWarning: Conversion of the second argument of issubdtype from `float` to `np.floating` is deprecated. In future, it will be treated as `np.float64 == np.dtype(float).type`.\n",
      "  from ._conv import register_converters as _register_converters\n",
      "Using TensorFlow backend.\n"
     ]
    }
   ],
   "source": [
    "import os\n",
    "import numpy as np\n",
    "import pandas as pd\n",
    "from keras_preprocessing.image import ImageDataGenerator\n",
    "from keras.models import Sequential\n",
    "from keras.layers import Dense, Activation, Flatten, Dropout\n",
    "from keras.layers import Conv2D, MaxPooling2D\n",
    "from keras import regularizers, optimizers\n",
    "from keras.metrics import categorical_accuracy\n",
    "from keras.callbacks import EarlyStopping, ReduceLROnPlateau\n",
    "import time"
   ]
  },
  {
   "cell_type": "markdown",
   "metadata": {},
   "source": [
    "#### Label Read In & Prep"
   ]
  },
  {
   "cell_type": "code",
   "execution_count": 2,
   "metadata": {},
   "outputs": [],
   "source": [
    "np.random.seed(1)\n",
    "\n",
    "df = pd.read_csv(r'C:\\Users\\casocha\\Downloads\\histopathologic-cancer-detection/train_labels.csv')\n",
    "\n",
    "def append_ext(fn):\n",
    "    return fn+\".tif\"\n",
    "\n",
    "df[\"id\"]=df[\"id\"].apply(append_ext)\n",
    "                   \n",
    "\n",
    "df[\"label\"]=df[\"label\"].astype(str)\n",
    "\n",
    "train_path = r'C:\\Users\\casocha\\Downloads\\histopathologic-cancer-detection\\train'\n",
    "valid_path = r'C:\\Users\\casocha\\Downloads\\histopathologic-cancer-detection\\train'\n",
    "\n",
    "testdf= pd.read_csv(r'C:\\Users\\casocha\\Downloads\\histopathologic-cancer-detection/sample_submission.csv')\n",
    "\n",
    "def append_ext2(fn):\n",
    "    return r'C:\\Users\\casocha\\Downloads\\histopathologic-cancer-detection\\test/' + fn+\".tif\"\n",
    "\n",
    "testdf[\"id\"]=testdf[\"id\"].apply(append_ext2)\n",
    "                   \n",
    "                   \n",
    "testdf = testdf.drop(['label'],axis=1)\n",
    "\n",
    "test_path = r'C:\\Users\\casocha\\Downloads\\histopathologic-cancer-detection\\test/'"
   ]
  },
  {
   "cell_type": "markdown",
   "metadata": {},
   "source": [
    "#### Data Read In"
   ]
  },
  {
   "cell_type": "code",
   "execution_count": 10,
   "metadata": {},
   "outputs": [
    {
     "name": "stdout",
     "output_type": "stream",
     "text": [
      "Found 57458 images.\n",
      "Found 187022 images belonging to 2 classes.\n",
      "Found 33003 images belonging to 2 classes.\n"
     ]
    }
   ],
   "source": [
    "test_datagen = ImageDataGenerator(rescale=1./255)\n",
    "\n",
    "test_generator=test_datagen.flow_from_dataframe(\n",
    "dataframe=testdf,\n",
    "directory=\"test_path\",\n",
    "x_col=\"id\",\n",
    "y_col=None,\n",
    "batch_size=128,\n",
    "seed=1,\n",
    "shuffle=False,\n",
    "class_mode=None,\n",
    "use_mutiprocessing = True,\n",
    "target_size=(96,96))\n",
    "\n",
    "train_datagen = ImageDataGenerator(\n",
    "       # horizontal_flip=True,\n",
    "       #vertical_flip=True,\n",
    "       #brightness_range=[0.5, 1.5],\n",
    "       #fill_mode='reflect',                               \n",
    "        #rotation_range=15,\n",
    "        rescale=1./255,\n",
    "        #shear_range=0.2,\n",
    "        #zoom_range=0.2\n",
    "        validation_split=0.15\n",
    "    \n",
    ")\n",
    "\n",
    "\n",
    "train_generator = train_datagen.flow_from_dataframe(\n",
    "                dataframe=df,\n",
    "                directory=train_path,\n",
    "                x_col = 'id',\n",
    "                y_col = 'label',\n",
    "                has_ext=False,\n",
    "                subset='training',\n",
    "                target_size=(96, 96),\n",
    "                batch_size=128,\n",
    "                seed=1,\n",
    "                class_mode='binary',\n",
    "                use_mutiprocessing = True\n",
    "                )\n",
    "\n",
    "validation_generator = train_datagen.flow_from_dataframe(\n",
    "                dataframe=df,\n",
    "                directory=valid_path,\n",
    "                x_col = 'id',\n",
    "                y_col = 'label',\n",
    "                has_ext=False,\n",
    "                subset='validation', # This is the trick to properly separate train and validation dataset\n",
    "                target_size=(96, 96),\n",
    "                batch_size=128,\n",
    "                seed=1,\n",
    "                shuffle=False,\n",
    "                class_mode='binary',\n",
    "                use_mutiprocessing = True\n",
    "                )"
   ]
  },
  {
   "cell_type": "markdown",
   "metadata": {},
   "source": [
    "#### Baseline Model Definition"
   ]
  },
  {
   "cell_type": "code",
   "execution_count": 21,
   "metadata": {},
   "outputs": [
    {
     "name": "stdout",
     "output_type": "stream",
     "text": [
      "_________________________________________________________________\n",
      "Layer (type)                 Output Shape              Param #   \n",
      "=================================================================\n",
      "conv2d_55 (Conv2D)           (None, 96, 96, 32)        896       \n",
      "_________________________________________________________________\n",
      "activation_62 (Activation)   (None, 96, 96, 32)        0         \n",
      "_________________________________________________________________\n",
      "conv2d_56 (Conv2D)           (None, 96, 96, 32)        9248      \n",
      "_________________________________________________________________\n",
      "activation_63 (Activation)   (None, 96, 96, 32)        0         \n",
      "_________________________________________________________________\n",
      "conv2d_57 (Conv2D)           (None, 96, 96, 32)        9248      \n",
      "_________________________________________________________________\n",
      "activation_64 (Activation)   (None, 96, 96, 32)        0         \n",
      "_________________________________________________________________\n",
      "max_pooling2d_19 (MaxPooling (None, 48, 48, 32)        0         \n",
      "_________________________________________________________________\n",
      "conv2d_58 (Conv2D)           (None, 48, 48, 64)        18496     \n",
      "_________________________________________________________________\n",
      "activation_65 (Activation)   (None, 48, 48, 64)        0         \n",
      "_________________________________________________________________\n",
      "conv2d_59 (Conv2D)           (None, 48, 48, 64)        36928     \n",
      "_________________________________________________________________\n",
      "activation_66 (Activation)   (None, 48, 48, 64)        0         \n",
      "_________________________________________________________________\n",
      "conv2d_60 (Conv2D)           (None, 48, 48, 64)        36928     \n",
      "_________________________________________________________________\n",
      "activation_67 (Activation)   (None, 48, 48, 64)        0         \n",
      "_________________________________________________________________\n",
      "max_pooling2d_20 (MaxPooling (None, 24, 24, 64)        0         \n",
      "_________________________________________________________________\n",
      "conv2d_61 (Conv2D)           (None, 24, 24, 128)       73856     \n",
      "_________________________________________________________________\n",
      "activation_68 (Activation)   (None, 24, 24, 128)       0         \n",
      "_________________________________________________________________\n",
      "conv2d_62 (Conv2D)           (None, 24, 24, 128)       147584    \n",
      "_________________________________________________________________\n",
      "activation_69 (Activation)   (None, 24, 24, 128)       0         \n",
      "_________________________________________________________________\n",
      "conv2d_63 (Conv2D)           (None, 24, 24, 128)       147584    \n",
      "_________________________________________________________________\n",
      "activation_70 (Activation)   (None, 24, 24, 128)       0         \n",
      "_________________________________________________________________\n",
      "max_pooling2d_21 (MaxPooling (None, 12, 12, 128)       0         \n",
      "_________________________________________________________________\n",
      "flatten_8 (Flatten)          (None, 18432)             0         \n",
      "_________________________________________________________________\n",
      "dense_15 (Dense)             (None, 256)               4718848   \n",
      "_________________________________________________________________\n",
      "activation_71 (Activation)   (None, 256)               0         \n",
      "_________________________________________________________________\n",
      "dense_16 (Dense)             (None, 1)                 257       \n",
      "=================================================================\n",
      "Total params: 5,199,873\n",
      "Trainable params: 5,199,873\n",
      "Non-trainable params: 0\n",
      "_________________________________________________________________\n"
     ]
    }
   ],
   "source": [
    "#Inspired by the VGG architecture \n",
    "model = Sequential()\n",
    "model.add(Conv2D(32,(3,3),padding='same',input_shape=(96,96,3)))\n",
    "model.add(Activation('relu'))\n",
    "model.add(Conv2D(32, (3, 3),padding='same'))\n",
    "model.add(Activation('relu'))\n",
    "model.add(Conv2D(32, (3, 3),padding='same'))\n",
    "#model.add(BatchNormalization())\n",
    "model.add(Activation('relu'))\n",
    "model.add(MaxPooling2D(pool_size=(2, 2)))\n",
    "\n",
    "\n",
    "model.add(Conv2D(64,(3,3),padding='same'))\n",
    "model.add(Activation('relu'))\n",
    "model.add(Conv2D(64, (3, 3),padding='same'))\n",
    "model.add(Activation('relu'))\n",
    "model.add(Conv2D(64, (3, 3),padding='same'))\n",
    "#model.add(BatchNormalization())\n",
    "model.add(Activation('relu'))\n",
    "model.add(MaxPooling2D(pool_size=(2, 2)))\n",
    "\n",
    "\n",
    "model.add(Conv2D(128,(3,3),padding='same'))\n",
    "model.add(Activation('relu'))\n",
    "model.add(Conv2D(128, (3, 3),padding='same'))\n",
    "model.add(Activation('relu'))\n",
    "model.add(Conv2D(128, (3, 3),padding='same'))\n",
    "#model.add(BatchNormalization())\n",
    "model.add(Activation('relu'))\n",
    "model.add(MaxPooling2D(pool_size=(2, 2)))\n",
    "\n",
    "model.add(Flatten())\n",
    "model.add(Dense(256))\n",
    "model.add(Activation('relu'))\n",
    "#model.add(Dropout(0.5))\n",
    "model.add(Dense(1, activation='sigmoid'))\n",
    "model.summary()\n",
    "model.compile(optimizer='adam',loss=\"binary_crossentropy\",metrics=[\"acc\"])\n"
   ]
  },
  {
   "cell_type": "code",
   "execution_count": 22,
   "metadata": {},
   "outputs": [
    {
     "name": "stdout",
     "output_type": "stream",
     "text": [
      "Epoch 1/6\n",
      " 661/1461 [============>.................] - ETA: 9:27 - loss: 0.4883 - acc: 0.7578"
     ]
    },
    {
     "name": "stderr",
     "output_type": "stream",
     "text": [
      "C:\\Anaconda\\lib\\site-packages\\keras\\callbacks.py:122: UserWarning: Method on_batch_end() is slow compared to the batch update (0.171875). Check your callbacks.\n",
      "  % delta_t_median)\n"
     ]
    },
    {
     "name": "stdout",
     "output_type": "stream",
     "text": [
      "1461/1461 [==============================] - 1089s 745ms/step - loss: 0.4386 - acc: 0.7929 - val_loss: 0.3472 - val_acc: 0.8500\n",
      "Epoch 2/6\n",
      " 662/1461 [============>.................] - ETA: 9:16 - loss: 0.3499 - acc: 0.8475"
     ]
    },
    {
     "name": "stderr",
     "output_type": "stream",
     "text": [
      "C:\\Anaconda\\lib\\site-packages\\keras\\callbacks.py:122: UserWarning: Method on_batch_end() is slow compared to the batch update (0.149485). Check your callbacks.\n",
      "  % delta_t_median)\n"
     ]
    },
    {
     "name": "stdout",
     "output_type": "stream",
     "text": [
      "1461/1461 [==============================] - 1080s 739ms/step - loss: 0.3285 - acc: 0.8589 - val_loss: 0.3060 - val_acc: 0.8707\n",
      "Epoch 3/6\n",
      " 663/1461 [============>.................] - ETA: 9:15 - loss: 0.2799 - acc: 0.8839"
     ]
    },
    {
     "name": "stderr",
     "output_type": "stream",
     "text": [
      "C:\\Anaconda\\lib\\site-packages\\keras\\callbacks.py:122: UserWarning: Method on_batch_end() is slow compared to the batch update (0.148439). Check your callbacks.\n",
      "  % delta_t_median)\n"
     ]
    },
    {
     "name": "stdout",
     "output_type": "stream",
     "text": [
      "1461/1461 [==============================] - 1078s 738ms/step - loss: 0.2653 - acc: 0.8909 - val_loss: 0.2265 - val_acc: 0.9097\n",
      "Epoch 4/6\n",
      "1461/1461 [==============================] - 1082s 740ms/step - loss: 0.2223 - acc: 0.9124 - val_loss: 0.2480 - val_acc: 0.8983\n",
      "\n",
      "Epoch 00004: ReduceLROnPlateau reducing learning rate to 0.00010000000474974513.\n",
      "Epoch 5/6\n",
      " 665/1461 [============>.................] - ETA: 9:15 - loss: 0.1742 - acc: 0.9340"
     ]
    },
    {
     "name": "stderr",
     "output_type": "stream",
     "text": [
      "C:\\Anaconda\\lib\\site-packages\\keras\\callbacks.py:122: UserWarning: Method on_batch_end() is slow compared to the batch update (0.125553). Check your callbacks.\n",
      "  % delta_t_median)\n"
     ]
    },
    {
     "name": "stdout",
     "output_type": "stream",
     "text": [
      "1461/1461 [==============================] - 1082s 741ms/step - loss: 0.1655 - acc: 0.9380 - val_loss: 0.1727 - val_acc: 0.9373\n",
      "Epoch 6/6\n",
      " 666/1461 [============>.................] - ETA: 9:15 - loss: 0.1523 - acc: 0.9446"
     ]
    },
    {
     "name": "stderr",
     "output_type": "stream",
     "text": [
      "C:\\Anaconda\\lib\\site-packages\\keras\\callbacks.py:122: UserWarning: Method on_batch_end() is slow compared to the batch update (0.125001). Check your callbacks.\n",
      "  % delta_t_median)\n"
     ]
    },
    {
     "name": "stdout",
     "output_type": "stream",
     "text": [
      "1461/1461 [==============================] - 1082s 741ms/step - loss: 0.1499 - acc: 0.9451 - val_loss: 0.1697 - val_acc: 0.9391\n"
     ]
    }
   ],
   "source": [
    "STEP_SIZE_TRAIN=train_generator.n//train_generator.batch_size\n",
    "STEP_SIZE_VALID=validation_generator.n//validation_generator.batch_size\n",
    "STEP_SIZE_TEST=test_generator.n//test_generator.batch_size\n",
    "\n",
    "earlystopper = EarlyStopping(monitor='val_loss', patience=2, verbose=1, restore_best_weights=True)\n",
    "reducel = ReduceLROnPlateau(monitor='val_loss', patience=1, verbose=1, factor=0.1)\n",
    "\n",
    "start = time.time()\n",
    "history = model.fit_generator(generator=train_generator,\n",
    "                    steps_per_epoch=STEP_SIZE_TRAIN,\n",
    "                    validation_data=validation_generator,\n",
    "                    validation_steps=STEP_SIZE_VALID,\n",
    "                    epochs=6,callbacks=[reducel, earlystopper]\n",
    ")\n",
    "\n",
    "end = time.time()\n",
    "print(\"Training time: \", (end - start)/60, \" minutes\")"
   ]
  },
  {
   "cell_type": "code",
   "execution_count": 23,
   "metadata": {},
   "outputs": [
    {
     "data": {
      "text/plain": [
       "[0.16948769339637876, 0.9393960539919445]"
      ]
     },
     "execution_count": 23,
     "metadata": {},
     "output_type": "execute_result"
    }
   ],
   "source": [
    "model.evaluate_generator(generator=validation_generator,\n",
    "steps=STEP_SIZE_TEST)"
   ]
  },
  {
   "cell_type": "code",
   "execution_count": 26,
   "metadata": {},
   "outputs": [
    {
     "data": {
      "image/png": "[encoded data removed]",
      "text/plain": [
       "<Figure size 864x432 with 2 Axes>"
      ]
     },
     "metadata": {},
     "output_type": "display_data"
    }
   ],
   "source": [
    "import matplotlib.pyplot as plt\n",
    "plt.figure(figsize=(12,6))\n",
    "# summarize history for accuracy\n",
    "plt.subplot(121)\n",
    "plt.plot(history.history['acc'])\n",
    "plt.plot(history.history['val_acc'])\n",
    "plt.title('Adam w/o BatchNormalization Accuracy')\n",
    "plt.ylabel('accuracy')\n",
    "plt.xlabel('epoch')\n",
    "plt.legend(['train', 'validation'], loc='upper left')\n",
    "# summarize history for loss\n",
    "plt.subplot(122)\n",
    "plt.plot(history.history['loss'])\n",
    "plt.plot(history.history['val_loss'])\n",
    "plt.title('Adam w/o BatchNormalization Loss')\n",
    "plt.ylabel('loss')\n",
    "plt.xlabel('epoch')\n",
    "plt.legend(['train', 'validation'], loc='upper right')\n",
    "plt.show()"
   ]
  },
  {
   "cell_type": "code",
   "execution_count": 45,
   "metadata": {},
   "outputs": [
    {
     "name": "stdout",
     "output_type": "stream",
     "text": [
      "449/449 [==============================] - 118s 264ms/step\n"
     ]
    }
   ],
   "source": [
    "pred=model.predict_generator(test_generator,\n",
    "steps=449,\n",
    "verbose=1)"
   ]
  },
  {
   "cell_type": "code",
   "execution_count": 47,
   "metadata": {},
   "outputs": [
    {
     "name": "stdout",
     "output_type": "stream",
     "text": [
      "57458\n"
     ]
    }
   ],
   "source": [
    "print(len(pred))"
   ]
  },
  {
   "cell_type": "code",
   "execution_count": 48,
   "metadata": {},
   "outputs": [
    {
     "data": {
      "text/plain": [
       "57458"
      ]
     },
     "execution_count": 48,
     "metadata": {},
     "output_type": "execute_result"
    }
   ],
   "source": [
    "y_test_pred=np.argmax(pred, axis=-1)  #y_test_prob.round()\n",
    "len(y_test_pred)"
   ]
  },
  {
   "cell_type": "code",
   "execution_count": 81,
   "metadata": {},
   "outputs": [
    {
     "name": "stdout",
     "output_type": "stream",
     "text": [
      "57458\n",
      "                                         id\n",
      "0  0b2ea2a822ad23fdb1b5dd26653da899fbd2c0d5\n",
      "1  95596b92e5066c5c52466c90b69ff089b39f2737\n",
      "2  248e6738860e2ebcf6258cdc1f32f299e0c76914\n",
      "3  2c35657e312966e9294eac6841726ff3a748febf\n",
      "4  145782eb7caa1c516acbe2eda34d9a3f31c41fd6\n"
     ]
    }
   ],
   "source": [
    "results = pd.DataFrame({'id':(test_generator.filenames)})\n",
    "print(len(results))\n",
    "#def remove_ext(id):\n",
    "#    return (id.split('/,.')[1])\n",
    "#results['id']=results['id'].apply(remove_ext)\n",
    "df = pd.DataFrame(results.id.str.split('/',1).tolist(),\n",
    "                                   columns = ['end','id'])\n",
    "\n",
    "df['id'].replace(regex=True,inplace=True,to_replace=r'.tif',value=r'')\n",
    "df.drop(['end'], axis=1,inplace=True)\n",
    "print(df.head())"
   ]
  },
  {
   "cell_type": "code",
   "execution_count": 82,
   "metadata": {},
   "outputs": [
    {
     "data": {
      "text/html": [
       "<div>\n",
       "<style scoped>\n",
       "    .dataframe tbody tr th:only-of-type {\n",
       "        vertical-align: middle;\n",
       "    }\n",
       "\n",
       "    .dataframe tbody tr th {\n",
       "        vertical-align: top;\n",
       "    }\n",
       "\n",
       "    .dataframe thead th {\n",
       "        text-align: right;\n",
       "    }\n",
       "</style>\n",
       "<table border=\"1\" class=\"dataframe\">\n",
       "  <thead>\n",
       "    <tr style=\"text-align: right;\">\n",
       "      <th></th>\n",
       "      <th>id</th>\n",
       "      <th>label</th>\n",
       "    </tr>\n",
       "  </thead>\n",
       "  <tbody>\n",
       "    <tr>\n",
       "      <th>0</th>\n",
       "      <td>0b2ea2a822ad23fdb1b5dd26653da899fbd2c0d5</td>\n",
       "      <td>0</td>\n",
       "    </tr>\n",
       "    <tr>\n",
       "      <th>1</th>\n",
       "      <td>95596b92e5066c5c52466c90b69ff089b39f2737</td>\n",
       "      <td>0</td>\n",
       "    </tr>\n",
       "    <tr>\n",
       "      <th>2</th>\n",
       "      <td>248e6738860e2ebcf6258cdc1f32f299e0c76914</td>\n",
       "      <td>0</td>\n",
       "    </tr>\n",
       "    <tr>\n",
       "      <th>3</th>\n",
       "      <td>2c35657e312966e9294eac6841726ff3a748febf</td>\n",
       "      <td>0</td>\n",
       "    </tr>\n",
       "    <tr>\n",
       "      <th>4</th>\n",
       "      <td>145782eb7caa1c516acbe2eda34d9a3f31c41fd6</td>\n",
       "      <td>0</td>\n",
       "    </tr>\n",
       "  </tbody>\n",
       "</table>\n",
       "</div>"
      ],
      "text/plain": [
       "                                         id  label\n",
       "0  0b2ea2a822ad23fdb1b5dd26653da899fbd2c0d5      0\n",
       "1  95596b92e5066c5c52466c90b69ff089b39f2737      0\n",
       "2  248e6738860e2ebcf6258cdc1f32f299e0c76914      0\n",
       "3  2c35657e312966e9294eac6841726ff3a748febf      0\n",
       "4  145782eb7caa1c516acbe2eda34d9a3f31c41fd6      0"
      ]
     },
     "execution_count": 82,
     "metadata": {},
     "output_type": "execute_result"
    }
   ],
   "source": [
    "df['label'] = y_test_pred\n",
    "df.to_csv(\"submission.csv\",index=False)\n",
    "df.head()"
   ]
  },
  {
   "cell_type": "code",
   "execution_count": 83,
   "metadata": {},
   "outputs": [],
   "source": [
    "fp = r'Downloads\\models/cancer-base.hdf5'\n",
    "model.save(fp)"
   ]
  },
  {
   "cell_type": "code",
   "execution_count": null,
   "metadata": {},
   "outputs": [],
   "source": []
  },
  {
   "cell_type": "code",
   "execution_count": null,
   "metadata": {},
   "outputs": [],
   "source": [
    "#keras.optimizers.SGD(lr=0.01, momentum=0.0, decay=0.0, nesterov=True)\n",
    "Try SGD next\n",
    "#optimizers.rmsprop(lr=0.001, decay=1e-6)"
   ]
  }
 ],
 "metadata": {
  "kernelspec": {
   "display_name": "Python 3",
   "language": "python",
   "name": "python3"
  },
  "language_info": {
   "codemirror_mode": {
    "name": "ipython",
    "version": 3
   },
   "file_extension": ".py",
   "mimetype": "text/x-python",
   "name": "python",
   "nbconvert_exporter": "python",
   "pygments_lexer": "ipython3",
   "version": "3.6.5"
  }
 },
 "nbformat": 4,
 "nbformat_minor": 2
}
